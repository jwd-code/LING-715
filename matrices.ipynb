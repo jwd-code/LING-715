{
 "cells": [
  {
   "attachments": {},
   "cell_type": "markdown",
   "metadata": {},
   "source": [
    "<h1><center> Functions </center> </h1>"
   ]
  },
  {
   "cell_type": "code",
   "execution_count": 91,
   "metadata": {},
   "outputs": [],
   "source": [
    "def matrix_zeros(rows, cols):\n",
    "    matrix = [[0 for i in range(cols)] for j in range(rows)]\n",
    "    return matrix\n"
   ]
  },
  {
   "cell_type": "code",
   "execution_count": 92,
   "metadata": {},
   "outputs": [],
   "source": [
    "\n",
    "def get_shape(A):\n",
    "    shape = []\n",
    "    while type(A) == type([]):\n",
    "        shape.append(len(A))\n",
    "        A = A[0]\n",
    "    return shape\n"
   ]
  },
  {
   "cell_type": "code",
   "execution_count": 93,
   "metadata": {},
   "outputs": [],
   "source": [
    "\n",
    "def copy_matrix(A):\n",
    "    return [row[:] for row in A]\n"
   ]
  },
  {
   "cell_type": "code",
   "execution_count": 94,
   "metadata": {},
   "outputs": [],
   "source": [
    "\n",
    "def matrix_add(matrix1, matrix2):\n",
    "    if get_shape(matrix1) == get_shape(matrix2):\n",
    "        result = matrix_zeros(len(matrix1), len(matrix1[0]))\n",
    "        # iterate through rows\n",
    "        for i in range(len(matrix1)):\n",
    "        # iterate through columns\n",
    "            for j in range(len(matrix1[0])):\n",
    "                result[i][j] = matrix1[i][j] + matrix2[i][j]\n",
    "        return result\n"
   ]
  },
  {
   "cell_type": "code",
   "execution_count": 95,
   "metadata": {},
   "outputs": [],
   "source": [
    "\n",
    "def matrix_subtract(matrix1, matrix2):\n",
    "    return [[matrix2[ind][i] - j for i, j in enumerate(row)] for ind, row in enumerate(matrix1)]\n"
   ]
  },
  {
   "cell_type": "code",
   "execution_count": 96,
   "metadata": {},
   "outputs": [],
   "source": [
    "\n",
    "def matrix_multiply(matrix1, matrix2):    \n",
    "    if len(matrix1) != len(matrix2[0]):\n",
    "        return('The rows and columns of matrices do not match.')\n",
    "    else:\n",
    "        return [[sum(a*b for a,b in zip(row,col)) for col in zip(*matrix2)] for row in matrix1]\n"
   ]
  },
  {
   "cell_type": "code",
   "execution_count": 97,
   "metadata": {},
   "outputs": [],
   "source": [
    "\n",
    "def print_matrix(mat):\n",
    "\n",
    "    # Check if mat is a 1D matrix\n",
    "    if any(isinstance(elem, int) for elem in mat):\n",
    "        print(mat)\n",
    "\n",
    "    else:\n",
    "        print('[', end='')\n",
    "        # Iterate through rows of mat\n",
    "        for i, row in enumerate(mat):\n",
    "            # Add a space if this is NOT the first row\n",
    "            if i != 0:\n",
    "                print(' ', end='')\n",
    "            print('[', end='') # Add left bracket for start of row\n",
    "            # Iterate through elements of row\n",
    "            for j, col in enumerate(row):\n",
    "                print(col, end='') # print element\n",
    "                # Add a comma and space if this is NOT the last element of the row\n",
    "                #   else add right bracket\n",
    "                if j != (len(row) - 1):\n",
    "                    print(', ', end='')\n",
    "                else:\n",
    "                    print(']', end = '')\n",
    "            if i != (len(mat) - 1):\n",
    "                print(',')\n",
    "        print(']')\n"
   ]
  },
  {
   "cell_type": "code",
   "execution_count": 105,
   "metadata": {},
   "outputs": [],
   "source": [
    "\n",
    "def matrix_multiply2(matrix1, matrix2):    \n",
    "    if len(matrix1) != len(matrix2[0]):\n",
    "        return('The rows and columns of matrices do not match.')\n",
    "    else:\n",
    "        #Turn each column into a list\n",
    "        result = matrix_zeros(len(matrix2[0]), len(matrix2[0]))\n",
    "        cols_m2 = []\n",
    "        for i in range(len(matrix2[0])):\n",
    "            column = [row[i] for row in matrix2]\n",
    "            cols_m2.append(column)\n",
    "        for i in range(len(matrix1)): #Row 0 or 1 of matrix 1\n",
    "            for j in range(len(cols_m2)): #Row 0 or 1 of col values\n",
    "                dot_product = 0\n",
    "                for k in range(len(matrix1[i])): #At place 0, 1, 2 in val list#)\n",
    "                    dot_product += matrix1[i][k]*cols_m2[j][k]\n",
    "                result[i][j] = dot_product\n",
    "        return result\n"
   ]
  },
  {
   "cell_type": "code",
   "execution_count": 99,
   "metadata": {},
   "outputs": [],
   "source": [
    "\n",
    "def matrix_transpose(matrix):\n",
    "    result = []\n",
    "    for i in range(len(matrix[0])):\n",
    "            row = [row[i] for row in matrix]\n",
    "            result.append(row)\n",
    "    return result\n"
   ]
  },
  {
   "cell_type": "code",
   "execution_count": 100,
   "metadata": {},
   "outputs": [],
   "source": [
    "\n",
    "def matrix_flatten(matrix):\n",
    "    result = [num for row in matrix for num in row]\n",
    "    return result\n",
    "            "
   ]
  },
  {
   "attachments": {},
   "cell_type": "markdown",
   "metadata": {},
   "source": [
    "<h1><center> Testing </center></h1>"
   ]
  },
  {
   "cell_type": "code",
   "execution_count": null,
   "metadata": {},
   "outputs": [],
   "source": []
  }
 ],
 "metadata": {
  "kernelspec": {
   "display_name": "Python 3",
   "language": "python",
   "name": "python3"
  },
  "language_info": {
   "codemirror_mode": {
    "name": "ipython",
    "version": 3
   },
   "file_extension": ".py",
   "mimetype": "text/x-python",
   "name": "python",
   "nbconvert_exporter": "python",
   "pygments_lexer": "ipython3",
   "version": "3.11.0"
  },
  "orig_nbformat": 4,
  "vscode": {
   "interpreter": {
    "hash": "c4c35ab18d64beb73eb5bd0a413aff9d7b8895fdc9746fe77e18c17c088a689f"
   }
  }
 },
 "nbformat": 4,
 "nbformat_minor": 2
}
