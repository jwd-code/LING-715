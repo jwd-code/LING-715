{
 "cells": [
  {
   "cell_type": "code",
   "execution_count": 505,
   "metadata": {},
   "outputs": [],
   "source": [
    "def matrix_zeros(rows, cols):\n",
    "    matrix = [[0 for i in range(cols)] for j in range(rows)]\n",
    "    return matrix\n",
    "\n",
    "def print_matrix(matrix):\n",
    "    for i in matrix:\n",
    "        print(i)\n",
    "\n",
    "def copy_matrix(matrix):\n",
    "    copy = [i for i in matrix]\n",
    "    return copy\n",
    "\n",
    "def matrix_add(matrix1, matrix2):\n",
    "    result = matrix_zeros(len(matrix1), len(matrix1[0]))\n",
    "    print(result)\n",
    "    # iterate through rows\n",
    "    for i in range(len(matrix1)):\n",
    "    # iterate through columns\n",
    "        for j in range(len(matrix1[0])):\n",
    "            result[i][j] = matrix1[i][j] + matrix2[i][j]\n",
    "            print(matrix1[i][j])\n",
    "            print(matrix2[i][j])\n",
    "    return result\n",
    "\n",
    "\n",
    "        \n",
    "            "
   ]
  },
  {
   "cell_type": "code",
   "execution_count": 506,
   "metadata": {},
   "outputs": [],
   "source": [
    "def matrix_multiply(matrix1, matrix2):\n",
    "    len_cols_m1 = len(matrix1[0])\n",
    "    len_cols_m2 = len(matrix2[0])\n",
    "    \n",
    "    if len(matrix1) != len_cols_m2:\n",
    "        raise Exception('The rows and columns of matrices do not match.')\n",
    "    else:\n",
    "        #Turn each column into a list\n",
    "        result = matrix_zeros(len(matrix2[0]), len(matrix2[0]))\n",
    "        sums = []\n",
    "        cols_m2 = []\n",
    "        for i in range(len_cols_m2):\n",
    "            column = [row[i] for row in matrix2]\n",
    "            cols_m2.append(column)\n",
    "\n",
    "        print(matrix1)\n",
    "        print(cols_m2)\n",
    "        print('---------')\n",
    "\n",
    "\n",
    "\n",
    "        # for i in range(len(matrix1)): #Row 0 or 1 of matrix 1\n",
    "        #     print('Looking at...', matrix1[i])\n",
    "        #     for j in range(len(cols_m2)): #Row 0 or 1 of col values\n",
    "        #         print('Times......', cols_m2[j])\n",
    "        #         nums = []\n",
    "        #         for k in range(len(matrix1[i])): #At place 0, 1, 2 in val list\n",
    "        #             #)\n",
    "        #             print(matrix1[i][k], '*', cols_m2[i][k])\n",
    "\n",
    "        for i in range(len(matrix1)): #Row 0 or 1 of matrix 1\n",
    "            print(matrix1[i])\n",
    "            for j in range(len(cols_m2)):\n",
    "                print(cols_m2[j])\n",
    "\n",
    "                \n",
    "\n",
    "    \n",
    "\n",
    "\n",
    "    "
   ]
  },
  {
   "cell_type": "code",
   "execution_count": 507,
   "metadata": {},
   "outputs": [
    {
     "name": "stdout",
     "output_type": "stream",
     "text": [
      "[[1, 4, 3], [2, 1, 5]]\n",
      "[[6, 4, 3], [4, 8, 5]]\n",
      "---------\n",
      "[1, 4, 3]\n",
      "[6, 4, 3]\n",
      "[4, 8, 5]\n",
      "[2, 1, 5]\n",
      "[6, 4, 3]\n",
      "[4, 8, 5]\n"
     ]
    }
   ],
   "source": [
    "A = [[1, 4, 3], [2, 1, 5]] #2 rows, 3 cols\n",
    "B = [[6, 4], [4, 8], [3, 5]] #3 rows, 2 cols\n",
    "\n",
    "matrix_multiply(A, B)\n"
   ]
  }
 ],
 "metadata": {
  "kernelspec": {
   "display_name": "Python 3",
   "language": "python",
   "name": "python3"
  },
  "language_info": {
   "codemirror_mode": {
    "name": "ipython",
    "version": 3
   },
   "file_extension": ".py",
   "mimetype": "text/x-python",
   "name": "python",
   "nbconvert_exporter": "python",
   "pygments_lexer": "ipython3",
   "version": "3.11.0"
  },
  "orig_nbformat": 4,
  "vscode": {
   "interpreter": {
    "hash": "c4c35ab18d64beb73eb5bd0a413aff9d7b8895fdc9746fe77e18c17c088a689f"
   }
  }
 },
 "nbformat": 4,
 "nbformat_minor": 2
}
