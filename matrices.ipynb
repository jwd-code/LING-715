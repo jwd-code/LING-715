{
 "cells": [
  {
   "cell_type": "code",
   "execution_count": 63,
   "metadata": {},
   "outputs": [],
   "source": [
    "def matrix_zeros(rows, cols):\n",
    "    matrix = [[0 for i in range(cols)] for j in range(rows)]\n",
    "    return matrix\n",
    "\n",
    "def print_matrix(matrix):\n",
    "    for i in matrix:\n",
    "        print(i)\n",
    "\n",
    "def copy_matrix(matrix):\n",
    "    copy = [i for i in matrix]\n",
    "    return copy\n",
    "\n",
    "def matrix_add(matrix1, matrix2):\n",
    "    result = matrix_zeros(len(matrix1), len(matrix1[0]))\n",
    "    print(result)\n",
    "    # iterate through rows\n",
    "    for i in range(len(matrix1)):\n",
    "    # iterate through columns\n",
    "        for j in range(len(matrix1[0])):\n",
    "            result[i][j] = matrix1[i][j] + matrix2[i][j]\n",
    "            print(matrix1[i][j])\n",
    "            print(matrix2[i][j])\n",
    "    return result\n",
    "\n",
    "def matrix_multiply(matrix1, matrix2):    \n",
    "    if len(matrix1) != len(matrix2[0]):\n",
    "        return('The rows and columns of matrices do not match.')\n",
    "    else:\n",
    "        #Turn each column into a list\n",
    "        result = matrix_zeros(len(matrix2[0]), len(matrix2[0]))\n",
    "        cols_m2 = []\n",
    "        for i in range(len(matrix2[0])):\n",
    "            column = [row[i] for row in matrix2]\n",
    "            cols_m2.append(column)\n",
    "        print(matrix1)\n",
    "        print(cols_m2)\n",
    "        print('---------')\n",
    "        for i in range(len(matrix1)): #Row 0 or 1 of matrix 1\n",
    "            for j in range(len(cols_m2)): #Row 0 or 1 of col values\n",
    "                dot_product = 0\n",
    "                for k in range(len(matrix1[i])): #At place 0, 1, 2 in val list#)\n",
    "                    # print(matrix1[i][k], '*', cols_m2[j][k], '=', matrix1[i][k]*cols_m2[j][k])\n",
    "                    dot_product += matrix1[i][k]*cols_m2[j][k]\n",
    "                    # print('Answer:', dot_product)\n",
    "                result[i][j] = dot_product\n",
    "        return result\n",
    "\n",
    "\n",
    "def matrix_transpose(matrix):\n",
    "    result = []\n",
    "    for i in range(len(matrix[0])):\n",
    "            row = [row[i] for row in matrix]\n",
    "            result.append(row)\n",
    "    return result\n",
    "\n",
    "def matrix_flatten(matrix):\n",
    "    result = [num for row in matrix for num in row]\n",
    "    return result\n",
    "            "
   ]
  }
 ],
 "metadata": {
  "kernelspec": {
   "display_name": "Python 3",
   "language": "python",
   "name": "python3"
  },
  "language_info": {
   "codemirror_mode": {
    "name": "ipython",
    "version": 3
   },
   "file_extension": ".py",
   "mimetype": "text/x-python",
   "name": "python",
   "nbconvert_exporter": "python",
   "pygments_lexer": "ipython3",
   "version": "3.11.1"
  },
  "orig_nbformat": 4,
  "vscode": {
   "interpreter": {
    "hash": "c4c35ab18d64beb73eb5bd0a413aff9d7b8895fdc9746fe77e18c17c088a689f"
   }
  }
 },
 "nbformat": 4,
 "nbformat_minor": 2
}
