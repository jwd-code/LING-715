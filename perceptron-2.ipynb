{
 "cells": [
  {
   "cell_type": "code",
   "execution_count": null,
   "metadata": {},
   "outputs": [],
   "source": [
    "import numpy as np \n",
    "import matplotlib\n",
    "from matplotlib import pyplot as plt, lines, animation\n",
    "\n",
    "\n",
    "file = open(\"C:\\\\Users\\\\Jerem\\\\Documents\\\\Spring 2023\\\\LING-715\\\\perceptron_training_data.tsv\")\n"
   ]
  },
  {
   "cell_type": "code",
   "execution_count": null,
   "metadata": {},
   "outputs": [],
   "source": [
    "feats1 = []\n",
    "feats2 = []\n",
    "labels = []\n",
    "for line in file.readlines():\n",
    "    f1, f2, l = line.split()\n",
    "    try:\n",
    "        feats1.append(float(f1))\n",
    "        feats2.append(float(f2))\n",
    "        labels.append(int(l))\n",
    "    except:\n",
    "        pass\n"
   ]
  },
  {
   "cell_type": "code",
   "execution_count": null,
   "metadata": {},
   "outputs": [],
   "source": [
    "def step_function(output):\n",
    "    if output > 0:\n",
    "        return 1\n",
    "    else:\n",
    "        return 0\n",
    "\n",
    "def get_decision_boundary(x1_list, weights_matrix, bias):\n",
    "    minx = min(x1_list)\n",
    "    maxx = max(x1_list)\n",
    "    y0 = -bias-(minx*weights_matrix[0])/(weights_matrix[1])\n",
    "    y1 = -bias-(maxx*weights_matrix[1])/(weights_matrix[1])\n",
    "    return [y0, y1]\n"
   ]
  },
  {
   "cell_type": "code",
   "execution_count": null,
   "metadata": {},
   "outputs": [],
   "source": [
    "epochs = 25\n",
    "bias = np.random.rand(1)\n",
    "weights = np.random.rand(2)\n",
    "learning_rate = 0.001"
   ]
  },
  {
   "cell_type": "code",
   "execution_count": null,
   "metadata": {},
   "outputs": [],
   "source": [
    "imgs = []\n",
    "for i in range(epochs):\n",
    "    correct = 0\n",
    "    for x1, x2, label in zip(feats1, feats2, labels):\n",
    "        minx = min(feats1)\n",
    "        maxx = max(feats1)\n",
    "        miny = min(feats2)\n",
    "        maxy = max(feats2)\n",
    "        x = np.array([x1, x2])\n",
    "        y_hat = step_function(np.dot(x, weights))\n",
    "        if y_hat != label and y_hat == 0:\n",
    "            weights = weights + learning_rate*x\n",
    "            bias = bias + learning_rate\n",
    "        elif y_hat != label and y_hat == 1:\n",
    "            weights = weights - learning_rate*x\n",
    "            bias = bias - learning_rate\n",
    "        elif y_hat == label:\n",
    "            correct += 1\n",
    "    \n",
    "    accuracy = correct/len(labels)*100\n",
    "    print('======================EPOCH {}======================'.format(i+1))\n",
    "    print('Accuracy: {}%'.format(accuracy))\n",
    "    print('Weights', weights)\n",
    "    print('Bias', bias)\n",
    "    \n",
    "    #create the plot\n",
    "\n",
    "    colors = ['blue', 'red']\n",
    "    fig = plt.figure(figsize=(6, 5))\n",
    "    ax = plt.axes()\n",
    "    ax.set_xlim([minx-0.5, maxx+0.5])\n",
    "    ax.set_ylim([miny-0.5, maxy+0.5])\n",
    "    ax.set_title('Epoch {} Accuracy {}%'.format(i+1, accuracy))\n",
    "    ax.scatter(feats1, feats2, c=labels, cmap=matplotlib.colors.ListedColormap(colors))\n",
    "    y_vals = get_decision_boundary(x1_list = feats1, weights_matrix = weights, bias = bias)\n",
    "    \n",
    "    ax.plot([minx, maxx], y_vals)\n",
    "    if correct == len(labels):\n",
    "        print('Converged after {} epochs.'.format(i+1))\n",
    "        break\n",
    "\n",
    "    \n"
   ]
  },
  {
   "cell_type": "code",
   "execution_count": null,
   "metadata": {},
   "outputs": [],
   "source": []
  }
 ],
 "metadata": {
  "kernelspec": {
   "display_name": "Python 3",
   "language": "python",
   "name": "python3"
  },
  "language_info": {
   "codemirror_mode": {
    "name": "ipython",
    "version": 3
   },
   "file_extension": ".py",
   "mimetype": "text/x-python",
   "name": "python",
   "nbconvert_exporter": "python",
   "pygments_lexer": "ipython3",
   "version": "3.11.0"
  },
  "orig_nbformat": 4,
  "vscode": {
   "interpreter": {
    "hash": "c4c35ab18d64beb73eb5bd0a413aff9d7b8895fdc9746fe77e18c17c088a689f"
   }
  }
 },
 "nbformat": 4,
 "nbformat_minor": 2
}
