{
 "cells": [
  {
   "cell_type": "code",
   "execution_count": null,
   "metadata": {},
   "outputs": [],
   "source": [
    "import numpy as np\n",
    "import matplotlib.pyplot as plt\n"
   ]
  },
  {
   "cell_type": "code",
   "execution_count": null,
   "metadata": {},
   "outputs": [],
   "source": [
    "num_vals = 100\n",
    "w = np.random.rand(1)\n",
    "learning_rate = .01\n",
    "\n",
    "np.random.seed(4)\n",
    "x = np.random.rand(num_vals)\n",
    "y = 4*x + np.random.randn(num_vals)\n",
    "plt.scatter(x, y)"
   ]
  },
  {
   "cell_type": "code",
   "execution_count": null,
   "metadata": {},
   "outputs": [],
   "source": [
    "def get_cost(x, y, w):\n",
    "    m = len(y)\n",
    "    y_hat = [np.dot(val, w) for val in x]\n",
    "    test = [(pred-actual)**2 for pred, actual in zip(y_hat, y)]\n",
    "    error = sum(test)\n",
    "    cost = 1/(2*m) * error\n",
    "    return cost\n",
    "\n",
    "def get_partial_derivative(x, y, w):\n",
    "    m = len(y)\n",
    "    derivative = np.dot(x, np.subtract(w*x, y))\n",
    "    return derivative/m\n"
   ]
  },
  {
   "cell_type": "code",
   "execution_count": null,
   "metadata": {},
   "outputs": [],
   "source": [
    "def gradient_descent(x, y, w, epochs):\n",
    "    m = len(y)\n",
    "    for i in range(epochs):\n",
    "        cost = get_cost(x, y, w)\n",
    "        w = w - (learning_rate * get_partial_derivative(x, y, w))\n",
    "        print(i, cost)\n"
   ]
  },
  {
   "cell_type": "code",
   "execution_count": null,
   "metadata": {},
   "outputs": [],
   "source": [
    "gradient_descent(x, y, w, epochs=20000)\n"
   ]
  }
 ],
 "metadata": {
  "kernelspec": {
   "display_name": "Python 3",
   "language": "python",
   "name": "python3"
  },
  "language_info": {
   "codemirror_mode": {
    "name": "ipython",
    "version": 3
   },
   "file_extension": ".py",
   "mimetype": "text/x-python",
   "name": "python",
   "nbconvert_exporter": "python",
   "pygments_lexer": "ipython3",
   "version": "3.11.0"
  },
  "orig_nbformat": 4,
  "vscode": {
   "interpreter": {
    "hash": "c4c35ab18d64beb73eb5bd0a413aff9d7b8895fdc9746fe77e18c17c088a689f"
   }
  }
 },
 "nbformat": 4,
 "nbformat_minor": 2
}
